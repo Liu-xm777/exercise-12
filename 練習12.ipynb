{
 "cells": [
  {
   "cell_type": "code",
   "execution_count": 10,
   "id": "fc186e05",
   "metadata": {},
   "outputs": [
    {
     "name": "stdout",
     "output_type": "stream",
     "text": [
      "1 索仔\n",
      "6 火把\n",
      "42 銀角仔\n",
      "1 刀仔\n",
      "12 箭\n",
      "裝備總數 62\n"
     ]
    }
   ],
   "source": [
    "stuff = {'索仔': 1, '火把': 6, '銀角仔': 42, '刀仔': 1, '箭': 12}\n",
    "def displayInventory(inventory):\n",
    "    total_items = 0\n",
    "    for item, quantity in inventory.items():\n",
    "        print(str(quantity)+' '+item)\n",
    "        total_items += quantity\n",
    "    print(\"裝備總數 \"+str(total_items))\n",
    "displayInventory(stuff)"
   ]
  },
  {
   "cell_type": "code",
   "execution_count": 11,
   "id": "75c54944",
   "metadata": {},
   "outputs": [
    {
     "name": "stdout",
     "output_type": "stream",
     "text": [
      "1 索仔\n",
      "6 火把\n",
      "42 銀角仔\n",
      "1 刀仔\n",
      "12 箭\n",
      "裝備總數 62\n",
      "1 索仔\n",
      "6 火把\n",
      "45 銀角仔\n",
      "2 刀仔\n",
      "12 箭\n",
      "1 紅寶石\n",
      "裝備總數 67\n"
     ]
    }
   ],
   "source": [
    "def addToInventory(inventory, addedItems):\n",
    "    for item in addedItems:\n",
    "        inventory.setdefault(item, 0) \n",
    "        inventory[item] += 1 \n",
    "    return inventory\n",
    "\n",
    "inv = {'索仔': 1, '火把': 6, '銀角仔': 42, '刀仔': 1, '箭': 12}\n",
    "displayInventory(inv)\n",
    "dragonLoot = ['銀角仔', '刀仔', '銀角仔', '銀角仔', '紅寶石']\n",
    "inv = addToInventory(inv, dragonLoot)\n",
    "displayInventory(inv)"
   ]
  },
  {
   "cell_type": "code",
   "execution_count": null,
   "id": "4e96d752",
   "metadata": {},
   "outputs": [],
   "source": []
  }
 ],
 "metadata": {
  "kernelspec": {
   "display_name": "Python 3 (ipykernel)",
   "language": "python",
   "name": "python3"
  },
  "language_info": {
   "codemirror_mode": {
    "name": "ipython",
    "version": 3
   },
   "file_extension": ".py",
   "mimetype": "text/x-python",
   "name": "python",
   "nbconvert_exporter": "python",
   "pygments_lexer": "ipython3",
   "version": "3.11.4"
  }
 },
 "nbformat": 4,
 "nbformat_minor": 5
}
